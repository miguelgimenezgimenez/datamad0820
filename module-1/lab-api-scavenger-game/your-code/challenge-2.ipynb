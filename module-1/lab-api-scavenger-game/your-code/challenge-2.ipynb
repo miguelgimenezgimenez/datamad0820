{
 "cells": [
  {
   "cell_type": "code",
   "execution_count": 2,
   "metadata": {},
   "outputs": [],
   "source": [
    "from main import getFromGithub, api_key\n",
    "import datetime\n"
   ]
  },
  {
   "cell_type": "markdown",
   "metadata": {},
   "source": [
    "### CHALLENGE 2"
   ]
  },
  {
   "cell_type": "code",
   "execution_count": 3,
   "metadata": {},
   "outputs": [
    {
     "name": "stdout",
     "output_type": "stream",
     "text": [
      "200 https://api.github.com/repositories/153720804/commits?since=2020-08-31\n",
      "Number of commits since last week : 0\n"
     ]
    }
   ],
   "source": [
    "\n",
    "today = datetime.date.today()\n",
    "weekday = today.weekday()\n",
    "start_delta = datetime.timedelta(days=weekday, weeks=1)\n",
    "start_of_week = today - start_delta\n",
    "commits = getFromGithub(\"/repos/ironhack-datalabs/madrid-oct-2018/commits\",\n",
    "                        queryParams={\"since\":start_of_week }, api_key=api_key)\n",
    "\n",
    "number_of_commits = len(commits)\n",
    "print(f\"Number of commits since last week : {number_of_commits}\")\n"
   ]
  }
 ],
 "metadata": {
  "kernelspec": {
   "display_name": "Python 3",
   "language": "python",
   "name": "python3"
  },
  "language_info": {
   "codemirror_mode": {
    "name": "ipython",
    "version": 3
   },
   "file_extension": ".py",
   "mimetype": "text/x-python",
   "name": "python",
   "nbconvert_exporter": "python",
   "pygments_lexer": "ipython3",
   "version": "3.7.7"
  }
 },
 "nbformat": 4,
 "nbformat_minor": 2
}
