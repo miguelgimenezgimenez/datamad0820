{
 "cells": [
  {
   "cell_type": "code",
   "execution_count": 3,
   "metadata": {},
   "outputs": [],
   "source": [
    "from main import getFromGithub, api_key\n"
   ]
  },
  {
   "cell_type": "markdown",
   "metadata": {},
   "source": [
    "### CHALLENGE 1"
   ]
  },
  {
   "cell_type": "code",
   "execution_count": 4,
   "metadata": {},
   "outputs": [
    {
     "name": "stdout",
     "output_type": "stream",
     "text": [
      "200 https://api.github.com/repositories/153720804/forks\n",
      "[None, None, None, 'Jupyter Notebook', 'Jupyter Notebook', 'Jupyter Notebook', 'Jupyter Notebook', 'Jupyter Notebook', 'HTML', 'Jupyter Notebook', 'Jupyter Notebook', 'Jupyter Notebook', 'Jupyter Notebook', 'Jupyter Notebook', 'Jupyter Notebook', 'Jupyter Notebook', 'Jupyter Notebook']\n"
     ]
    }
   ],
   "source": [
    "forks = getFromGithub(\"/repos/ironhack-datalabs/madrid-oct-2018/forks\", api_key=api_key)\n",
    "languages = []\n",
    "for fork in forks:\n",
    "    languages.append(fork.get('language'))\n",
    "print(languages)"
   ]
  },
  {
   "cell_type": "markdown",
   "metadata": {},
   "source": [
    "### CHALLENGE 2"
   ]
  },
  {
   "cell_type": "code",
   "execution_count": 135,
   "metadata": {},
   "outputs": [
    {
     "name": "stdout",
     "output_type": "stream",
     "text": [
      "200 https://api.github.com/repositories/153720804/commits?since=2020-08-31\n",
      "Number of commits since last week : 0\n"
     ]
    }
   ],
   "source": [
    "# datetime\n",
    "today = datetime.date.today()\n",
    "weekday = today.weekday()\n",
    "start_delta = datetime.timedelta(days=weekday, weeks=1)\n",
    "start_of_week = today - start_delta\n",
    "commits = getFromGithub(\"/repos/ironhack-datalabs/madrid-oct-2018/commits\",\n",
    "                        queryParams={\"since\":start_of_week }, api_key=api_key)\n",
    "\n",
    "number_of_commits = len(commits)\n",
    "print(f\"Number of commits since last week : {number_of_commits}\")\n"
   ]
  },
  {
   "cell_type": "markdown",
   "metadata": {},
   "source": [
    "### CHALLENGE 3\n",
    "\n"
   ]
  },
  {
   "cell_type": "code",
   "execution_count": 5,
   "metadata": {},
   "outputs": [
    {
     "name": "stdout",
     "output_type": "stream",
     "text": [
      "200 https://api.github.com/repos/ironhack-datalabs/scavenger/contents\n",
      "200 https://api.github.com/repos/ironhack-datalabs/scavenger/contents/.gitignore\n",
      "200 https://api.github.com/repos/ironhack-datalabs/scavenger/contents/15024\n",
      "200 https://api.github.com/repos/ironhack-datalabs/scavenger/contents/15024/.0006.scavengerhunt\n",
      "200 https://api.github.com/repos/ironhack-datalabs/scavenger/contents/15534\n",
      "200 https://api.github.com/repos/ironhack-datalabs/scavenger/contents/15534/.0008.scavengerhunt\n",
      "200 https://api.github.com/repos/ironhack-datalabs/scavenger/contents/17020\n",
      "200 https://api.github.com/repos/ironhack-datalabs/scavenger/contents/17020/.0007.scavengerhunt\n",
      "200 https://api.github.com/repos/ironhack-datalabs/scavenger/contents/30351\n",
      "200 https://api.github.com/repos/ironhack-datalabs/scavenger/contents/30351/.0021.scavengerhunt\n",
      "200 https://api.github.com/repos/ironhack-datalabs/scavenger/contents/40303\n",
      "200 https://api.github.com/repos/ironhack-datalabs/scavenger/contents/40303/.0022.scavengerhunt\n",
      "200 https://api.github.com/repos/ironhack-datalabs/scavenger/contents/44639\n",
      "200 https://api.github.com/repos/ironhack-datalabs/scavenger/contents/44639/.0005.scavengerhunt\n",
      "200 https://api.github.com/repos/ironhack-datalabs/scavenger/contents/45525\n",
      "200 https://api.github.com/repos/ironhack-datalabs/scavenger/contents/45525/.0018.scavengerhunt\n",
      "200 https://api.github.com/repos/ironhack-datalabs/scavenger/contents/47222\n",
      "200 https://api.github.com/repos/ironhack-datalabs/scavenger/contents/47222/.0016.scavengerhunt\n",
      "200 https://api.github.com/repos/ironhack-datalabs/scavenger/contents/47830\n",
      "200 https://api.github.com/repos/ironhack-datalabs/scavenger/contents/47830/.0010.scavengerhunt\n",
      "200 https://api.github.com/repos/ironhack-datalabs/scavenger/contents/49418\n",
      "200 https://api.github.com/repos/ironhack-datalabs/scavenger/contents/49418/.0014.scavengerhunt\n",
      "200 https://api.github.com/repos/ironhack-datalabs/scavenger/contents/50896\n",
      "200 https://api.github.com/repos/ironhack-datalabs/scavenger/contents/50896/.0011.scavengerhunt\n",
      "200 https://api.github.com/repos/ironhack-datalabs/scavenger/contents/55417\n",
      "200 https://api.github.com/repos/ironhack-datalabs/scavenger/contents/55417/.0023.scavengerhunt\n",
      "200 https://api.github.com/repos/ironhack-datalabs/scavenger/contents/55685\n",
      "200 https://api.github.com/repos/ironhack-datalabs/scavenger/contents/55685/.0020.scavengerhunt\n",
      "200 https://api.github.com/repos/ironhack-datalabs/scavenger/contents/60224\n",
      "200 https://api.github.com/repos/ironhack-datalabs/scavenger/contents/60224/.0003.scavengerhunt\n",
      "200 https://api.github.com/repos/ironhack-datalabs/scavenger/contents/64880\n",
      "200 https://api.github.com/repos/ironhack-datalabs/scavenger/contents/64880/3\n",
      "200 https://api.github.com/repos/ironhack-datalabs/scavenger/contents/66032\n",
      "200 https://api.github.com/repos/ironhack-datalabs/scavenger/contents/66032/28\n",
      "200 https://api.github.com/repos/ironhack-datalabs/scavenger/contents/68848\n",
      "200 https://api.github.com/repos/ironhack-datalabs/scavenger/contents/68848/.0004.scavengerhunt\n",
      "200 https://api.github.com/repos/ironhack-datalabs/scavenger/contents/70751\n",
      "200 https://api.github.com/repos/ironhack-datalabs/scavenger/contents/70751/.0019.scavengerhunt\n",
      "200 https://api.github.com/repos/ironhack-datalabs/scavenger/contents/70985\n",
      "200 https://api.github.com/repos/ironhack-datalabs/scavenger/contents/70985/.0017.scavengerhunt\n",
      "200 https://api.github.com/repos/ironhack-datalabs/scavenger/contents/88596\n",
      "200 https://api.github.com/repos/ironhack-datalabs/scavenger/contents/88596/.0002.scavengerhunt\n",
      "200 https://api.github.com/repos/ironhack-datalabs/scavenger/contents/89046\n",
      "200 https://api.github.com/repos/ironhack-datalabs/scavenger/contents/89046/64\n",
      "200 https://api.github.com/repos/ironhack-datalabs/scavenger/contents/89338\n",
      "200 https://api.github.com/repos/ironhack-datalabs/scavenger/contents/89338/.0013.scavengerhunt\n",
      "200 https://api.github.com/repos/ironhack-datalabs/scavenger/contents/91701\n",
      "200 https://api.github.com/repos/ironhack-datalabs/scavenger/contents/91701/.0015.scavengerhunt\n",
      "200 https://api.github.com/repos/ironhack-datalabs/scavenger/contents/97881\n",
      "200 https://api.github.com/repos/ironhack-datalabs/scavenger/contents/97881/.0009.scavengerhunt\n",
      "200 https://api.github.com/repos/ironhack-datalabs/scavenger/contents/98750\n",
      "200 https://api.github.com/repos/ironhack-datalabs/scavenger/contents/98750/.0001.scavengerhunt\n"
     ]
    }
   ],
   "source": [
    "import base64\n",
    "contents = getFromGithub(\"/repos/ironhack-datalabs/scavenger/contents\",\n",
    "                         api_key=api_key)\n",
    "file_contents = []\n",
    "for folder in contents :\n",
    "    name = folder.get('name')\n",
    "    files = getFromGithub(f\"/repos/ironhack-datalabs/scavenger/contents/{name}\",\n",
    "                         api_key=api_key)\n",
    "    if isinstance(files, list):\n",
    "        \n",
    "        file_content = getFromGithub(f\"/repos/ironhack-datalabs/scavenger/contents/{name}/{files[0].get('name')}\",\n",
    "                         api_key=api_key)\n",
    "        file_contents.append(file_content)\n",
    "    \n",
    "    \n",
    "sorted_file_contents = sorted(file_contents,key= lambda dictionary: dictionary['name'] )   \n",
    "    "
   ]
  },
  {
   "cell_type": "code",
   "execution_count": 6,
   "metadata": {},
   "outputs": [],
   "source": [
    "joke=''\n",
    "for item in sorted_file_contents:\n",
    "     joke += base64.b64decode(item.get('content')).decode('UTF-8').replace('\\n',' ')\n",
    "\n",
    "    "
   ]
  },
  {
   "cell_type": "code",
   "execution_count": 138,
   "metadata": {},
   "outputs": [
    {
     "data": {
      "text/plain": [
       "'In data science, 80 percent of time spent is preparing data, percent of time is spent complaining about the need to prepare '"
      ]
     },
     "execution_count": 138,
     "metadata": {},
     "output_type": "execute_result"
    }
   ],
   "source": [
    "joke"
   ]
  },
  {
   "cell_type": "code",
   "execution_count": null,
   "metadata": {},
   "outputs": [],
   "source": []
  },
  {
   "cell_type": "code",
   "execution_count": null,
   "metadata": {},
   "outputs": [],
   "source": []
  }
 ],
 "metadata": {
  "kernelspec": {
   "display_name": "Python 3",
   "language": "python",
   "name": "python3"
  },
  "language_info": {
   "codemirror_mode": {
    "name": "ipython",
    "version": 3
   },
   "file_extension": ".py",
   "mimetype": "text/x-python",
   "name": "python",
   "nbconvert_exporter": "python",
   "pygments_lexer": "ipython3",
   "version": "3.7.7"
  }
 },
 "nbformat": 4,
 "nbformat_minor": 2
}
