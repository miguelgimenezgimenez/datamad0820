{
 "cells": [
  {
   "cell_type": "markdown",
   "metadata": {},
   "source": [
    "# Parsing APIs Example"
   ]
  },
  {
   "cell_type": "markdown",
   "metadata": {},
   "source": [
    "## Intro\n",
    "\n",
    "Now we will take a look on a real data. When you parse data from web you will often meet API based web-pages. \n",
    "\n",
    "For example [zalando.fr](https://www.zalando.fr/accueil-homme/) is API based web-page. \n",
    "\n",
    "In this guided lab you will learn how to obtain the links from webpages and extract the data. Read through this doc, execute the cells in order and make sure you understand the explanations. \n",
    "\n",
    "*Note: This guided lab uses Google Chrome. Other browsers like Safari and Firefox have similar tools for developers but they work differently. To save your time in following this lab, it is strongly recommended that you install and use Google Chrome.*"
   ]
  },
  {
   "cell_type": "markdown",
   "metadata": {},
   "source": [
    "## Obtaining the link\n",
    "\n",
    "Zalando is discount e-store where you can buy clothes and accesories with discount. When we go to the web-page, we can choose different sections. First the general process will be shown using [Children section](https://www.zalando.fr/accueil-enfant/) as example.\n",
    "\n",
    "Here we will parse data about promotions only. Therefore, final output will be the DataFrame with all the goods under discount.\n",
    "\n",
    "[![Image from Gyazo](https://i.gyazo.com/fa4874d8e81c7570273bbfb853d66308.png)](https://gyazo.com/fa4874d8e81c7570273bbfb853d66308)\n",
    "\n",
    "\n",
    "We go to Promos page. Right click of mouse shows us a list of actions possible, from which we select Inspect.\n",
    "\n",
    "<img src='https://i.gyazo.com/bccbd11d69c9040dc98758d443e32052.png' width=\"400\">\n",
    "\n",
    "\n",
    "You will see the menu dropdown on the right side or on the bottom of the window. There you should click on Network:\n",
    "\n",
    "\n",
    "[![Image from Gyazo](https://i.gyazo.com/f7e0db81cbfee67694183d1a7640bf81.png)](https://gyazo.com/f7e0db81cbfee67694183d1a7640bf81)"
   ]
  },
  {
   "cell_type": "markdown",
   "metadata": {},
   "source": [
    "Right after the developer part will change showing the files behind the page. In order to obtain only useful files we select the following settings:\n",
    "1. Preserve Log\n",
    "2. Select XHR files.\n",
    "\n",
    "[![Image from Gyazo](https://i.gyazo.com/9a899d4441d9d93e795f79747f1e47d5.png)](https://gyazo.com/9a899d4441d9d93e795f79747f1e47d5)\n",
    "\n",
    "In order to obtain some files we need to scrool down and go forward to second page. \n",
    "\n",
    "[![Image from Gyazo](https://i.gyazo.com/0956eb3d5125075a236c9a439c7749c7.png)](https://gyazo.com/0956eb3d5125075a236c9a439c7749c7)\n",
    "\n",
    "In the Network panel you can see the following files being uploaded. All the data on the web-page is uploaded from the json file, which is one of the following. It is important to understand which file contains what kind of information. \n",
    "\n",
    "<a href=\"https://gyazo.com/cf97a655869f0b22df0ada1cb2a41c3c\"><img src=\"https://i.gyazo.com/cf97a655869f0b22df0ada1cb2a41c3c.png\" alt=\"Image from Gyazo\" width=\"724.8\"/></a>\n",
    "\n",
    "When you find what kind of information you need for the data to be uploaded you just test it. Here we need the article... file:\n",
    "\n",
    "<a href=\"https://gyazo.com/78b35bf492994b3f35c0564a21da202a\"><img src=\"https://i.gyazo.com/78b35bf492994b3f35c0564a21da202a.png\" alt=\"Image from Gyazo\" width=\"727.2\"/></a>\n",
    "\n",
    "When we test the link in Chrome inkognito mode we obtain the proper json file:\n",
    "\n",
    "\n",
    "<a href=\"https://gyazo.com/b60453fa98454fa29771c731a5174443\"><img src=\"https://i.gyazo.com/b60453fa98454fa29771c731a5174443.png\" alt=\"Image from Gyazo\" width=\"1530.4\"/></a>"
   ]
  },
  {
   "cell_type": "markdown",
   "metadata": {},
   "source": [
    "In order to change the objects in the json file (kind of pagination), you need to change the offset (the number of the first element on the page). in fact, if you take a look on the link, it is easy to unerstand the structure of the link.\n",
    "\n",
    "# Reading the data\n",
    "\n",
    "Now the party rocks! When we know how can we obtain the data, it is not a problem to obtain the whole database with all the data from the web-page.\n",
    "In this lab you will collect your database of Zalando products. You select which goods you want to track. You can define as many filters to your data as you want. Just make sure that the data represents the filters.\n",
    "\n",
    "\n"
   ]
  },
  {
   "cell_type": "code",
   "execution_count": 1,
   "metadata": {},
   "outputs": [],
   "source": [
    "import json\n",
    "import urllib\n",
    "import requests\n",
    "import pandas as pd\n",
    "from pandas import json_normalize\n"
   ]
  },
  {
   "cell_type": "code",
   "execution_count": 2,
   "metadata": {},
   "outputs": [],
   "source": [
    "# Paste the url you obtained for your data\n",
    "url='https://www.zalando.fr/api/catalog/articles?categories=promo-enfant&limit=84&offset=84&sort=sale'\n"
   ]
  },
  {
   "cell_type": "markdown",
   "metadata": {},
   "source": [
    "#### Collect first 84 object of the of the data (1st page)\n",
    "\n",
    "Your output should be a Pandas DataFrame of goods. Each row should contain only text or numbers, having *family_articles, flags, media* and *sizes* remaining lists (they are exceptions)."
   ]
  },
  {
   "cell_type": "code",
   "execution_count": 9,
   "metadata": {},
   "outputs": [
    {
     "name": "stdout",
     "output_type": "stream",
     "text": [
      "dict_keys(['total_count', 'pagination', 'sort', 'articles', 'query_path', 'previous_page_path', 'next_page_path', 'query_params', 'page_gender', 'premium', 'filters', 'total_article_count', 'filter_groups', 'plusStatus', 'categoryTree', 'sortingKeys', 'breadcrumbs', 'querySemantics', 'articlesToShow', 'octopusTests', 'locale', 'isLoggedIn', 'notification', 'resetFilters', 'selectedFilters', 'ssrArticleCount', 'feedbackId', 'variants', 'contentPositions', 'prideEnabled', 'lazyArticleImages', 'hideSearchTerm', 'iconPaths', 'teaser', 'inCatalogTeaser', 'entryPointTeasers', 'upperInCatTeaser', 'collection', 'carouselTeaser', 'wishlist', 'pills', 'sizeOnboardingDialog'])\n"
     ]
    },
    {
     "data": {
      "text/html": [
       "<div>\n",
       "<style scoped>\n",
       "    .dataframe tbody tr th:only-of-type {\n",
       "        vertical-align: middle;\n",
       "    }\n",
       "\n",
       "    .dataframe tbody tr th {\n",
       "        vertical-align: top;\n",
       "    }\n",
       "\n",
       "    .dataframe thead th {\n",
       "        text-align: right;\n",
       "    }\n",
       "</style>\n",
       "<table border=\"1\" class=\"dataframe\">\n",
       "  <thead>\n",
       "    <tr style=\"text-align: right;\">\n",
       "      <th></th>\n",
       "      <th>sku</th>\n",
       "      <th>name</th>\n",
       "      <th>sizes</th>\n",
       "      <th>url_key</th>\n",
       "      <th>media</th>\n",
       "      <th>brand_name</th>\n",
       "      <th>is_premium</th>\n",
       "      <th>family_articles</th>\n",
       "      <th>flags</th>\n",
       "      <th>product_group</th>\n",
       "      <th>delivery_promises</th>\n",
       "      <th>price.original</th>\n",
       "      <th>price.promotional</th>\n",
       "      <th>price.has_different_prices</th>\n",
       "      <th>price.has_different_original_prices</th>\n",
       "      <th>price.has_different_promotional_prices</th>\n",
       "      <th>price.has_discount_on_selected_sizes_only</th>\n",
       "    </tr>\n",
       "  </thead>\n",
       "  <tbody>\n",
       "    <tr>\n",
       "      <th>0</th>\n",
       "      <td>EW383D04E-J11</td>\n",
       "      <td>2 PACK - Chaussettes - blau/rosé</td>\n",
       "      <td>[31-34, 35-38]</td>\n",
       "      <td>ewers-2-pack-chaussettes-blaurose-ew383d04e-j11</td>\n",
       "      <td>[{'path': 'spp-media-p1/56b05d9c270137019dff27...</td>\n",
       "      <td>Ewers</td>\n",
       "      <td>False</td>\n",
       "      <td>[]</td>\n",
       "      <td>[{'key': 'campaign', 'value': 'Prix Mini', 'tr...</td>\n",
       "      <td>underwear</td>\n",
       "      <td>[]</td>\n",
       "      <td>10,95 €</td>\n",
       "      <td>10,95 €</td>\n",
       "      <td>False</td>\n",
       "      <td>False</td>\n",
       "      <td>False</td>\n",
       "      <td>False</td>\n",
       "    </tr>\n",
       "    <tr>\n",
       "      <th>1</th>\n",
       "      <td>C1Q84A000-G11</td>\n",
       "      <td>VOLUME BUBBYSUIT - Body - vanilla</td>\n",
       "      <td>[]</td>\n",
       "      <td>cotton-on-volume-bubbysuit-body-c1q84a000-g11</td>\n",
       "      <td>[{'path': 'spp-media-p1/110d598b36b83b97885d70...</td>\n",
       "      <td>Cotton On</td>\n",
       "      <td>False</td>\n",
       "      <td>[]</td>\n",
       "      <td>[{'key': 'campaign', 'value': 'Prix Mini', 'tr...</td>\n",
       "      <td>underwear</td>\n",
       "      <td>[]</td>\n",
       "      <td>11,99 €</td>\n",
       "      <td>11,99 €</td>\n",
       "      <td>False</td>\n",
       "      <td>False</td>\n",
       "      <td>False</td>\n",
       "      <td>False</td>\n",
       "    </tr>\n",
       "  </tbody>\n",
       "</table>\n",
       "</div>"
      ],
      "text/plain": [
       "             sku                               name           sizes  \\\n",
       "0  EW383D04E-J11   2 PACK - Chaussettes - blau/rosé  [31-34, 35-38]   \n",
       "1  C1Q84A000-G11  VOLUME BUBBYSUIT - Body - vanilla              []   \n",
       "\n",
       "                                           url_key  \\\n",
       "0  ewers-2-pack-chaussettes-blaurose-ew383d04e-j11   \n",
       "1    cotton-on-volume-bubbysuit-body-c1q84a000-g11   \n",
       "\n",
       "                                               media brand_name  is_premium  \\\n",
       "0  [{'path': 'spp-media-p1/56b05d9c270137019dff27...      Ewers       False   \n",
       "1  [{'path': 'spp-media-p1/110d598b36b83b97885d70...  Cotton On       False   \n",
       "\n",
       "  family_articles                                              flags  \\\n",
       "0              []  [{'key': 'campaign', 'value': 'Prix Mini', 'tr...   \n",
       "1              []  [{'key': 'campaign', 'value': 'Prix Mini', 'tr...   \n",
       "\n",
       "  product_group delivery_promises price.original price.promotional  \\\n",
       "0     underwear                []        10,95 €           10,95 €   \n",
       "1     underwear                []        11,99 €           11,99 €   \n",
       "\n",
       "   price.has_different_prices  price.has_different_original_prices  \\\n",
       "0                       False                                False   \n",
       "1                       False                                False   \n",
       "\n",
       "   price.has_different_promotional_prices  \\\n",
       "0                                   False   \n",
       "1                                   False   \n",
       "\n",
       "   price.has_discount_on_selected_sizes_only  \n",
       "0                                      False  \n",
       "1                                      False  "
      ]
     },
     "execution_count": 9,
     "metadata": {},
     "output_type": "execute_result"
    }
   ],
   "source": [
    "# Your code\n",
    "response = urllib.request.urlopen(url)\n",
    "results = json.load(response)\n",
    "\n",
    "\n",
    "flattened_data = json_normalize(results)\n",
    "flattened_data1 = json_normalize(flattened_data.articles[0])\n",
    "flattened_data1"
   ]
  },
  {
   "cell_type": "markdown",
   "metadata": {},
   "source": [
    "#### Collect all the objects from selected filters. Total number of pages can be found in the same json. Use *sku* column as index.\n",
    "\n",
    "Your output should be a Pandas DataFrame of goods. Each row should contain only text or numbers, having family_articles, flags, media and sizes remaining lists (they are exceptions)."
   ]
  },
  {
   "cell_type": "code",
   "execution_count": 36,
   "metadata": {},
   "outputs": [
    {
     "name": "stdout",
     "output_type": "stream",
     "text": [
      "getting page 19 of 214\r"
     ]
    },
    {
     "data": {
      "text/html": [
       "<div>\n",
       "<style scoped>\n",
       "    .dataframe tbody tr th:only-of-type {\n",
       "        vertical-align: middle;\n",
       "    }\n",
       "\n",
       "    .dataframe tbody tr th {\n",
       "        vertical-align: top;\n",
       "    }\n",
       "\n",
       "    .dataframe thead th {\n",
       "        text-align: right;\n",
       "    }\n",
       "</style>\n",
       "<table border=\"1\" class=\"dataframe\">\n",
       "  <thead>\n",
       "    <tr style=\"text-align: right;\">\n",
       "      <th></th>\n",
       "      <th>name</th>\n",
       "      <th>sizes</th>\n",
       "      <th>url_key</th>\n",
       "      <th>media</th>\n",
       "      <th>brand_name</th>\n",
       "      <th>is_premium</th>\n",
       "      <th>family_articles</th>\n",
       "      <th>flags</th>\n",
       "      <th>product_group</th>\n",
       "      <th>delivery_promises</th>\n",
       "      <th>price.original</th>\n",
       "      <th>price.promotional</th>\n",
       "      <th>price.has_different_prices</th>\n",
       "      <th>price.has_different_original_prices</th>\n",
       "      <th>price.has_different_promotional_prices</th>\n",
       "      <th>price.has_discount_on_selected_sizes_only</th>\n",
       "      <th>amount</th>\n",
       "    </tr>\n",
       "    <tr>\n",
       "      <th>sku</th>\n",
       "      <th></th>\n",
       "      <th></th>\n",
       "      <th></th>\n",
       "      <th></th>\n",
       "      <th></th>\n",
       "      <th></th>\n",
       "      <th></th>\n",
       "      <th></th>\n",
       "      <th></th>\n",
       "      <th></th>\n",
       "      <th></th>\n",
       "      <th></th>\n",
       "      <th></th>\n",
       "      <th></th>\n",
       "      <th></th>\n",
       "      <th></th>\n",
       "      <th></th>\n",
       "    </tr>\n",
       "  </thead>\n",
       "  <tbody>\n",
       "    <tr>\n",
       "      <th>AD543A1H1-Q11</th>\n",
       "      <td>TERREX AX2R - Chaussures de marche - core blac...</td>\n",
       "      <td>[28, 28.5, 29, 30, 30.5, 31, 31.5, 32, 33, 33....</td>\n",
       "      <td>adidas-performance-terrex-ax2r-chaussures-de-r...</td>\n",
       "      <td>[{'path': 'spp-media-p1/6b794a1fa0d73bc1b922b5...</td>\n",
       "      <td>adidas Performance</td>\n",
       "      <td>False</td>\n",
       "      <td>[]</td>\n",
       "      <td>[{'key': 'discountRate', 'value': '-30%', 'tra...</td>\n",
       "      <td>shoe</td>\n",
       "      <td>[]</td>\n",
       "      <td>49,95 €</td>\n",
       "      <td>34,95 €</td>\n",
       "      <td>False</td>\n",
       "      <td>False</td>\n",
       "      <td>False</td>\n",
       "      <td>False</td>\n",
       "      <td>NaN</td>\n",
       "    </tr>\n",
       "    <tr>\n",
       "      <th>TO124G05S-K11</th>\n",
       "      <td>BOYS BASIC  - T-shirt basique - sky captain</td>\n",
       "      <td>[4a, 5a, 6a, 7a, 8a, 10a, 12a, 14a, 16a]</td>\n",
       "      <td>tommy-hilfiger-boys-basic-t-shirt-basique-to12...</td>\n",
       "      <td>[{'path': 'spp-media-p1/f36ea887288232a98457a4...</td>\n",
       "      <td>Tommy Hilfiger</td>\n",
       "      <td>False</td>\n",
       "      <td>[]</td>\n",
       "      <td>[{'key': 'discountRate', 'value': '-15%', 'tra...</td>\n",
       "      <td>clothing</td>\n",
       "      <td>[]</td>\n",
       "      <td>14,95 €</td>\n",
       "      <td>12,70 €</td>\n",
       "      <td>True</td>\n",
       "      <td>False</td>\n",
       "      <td>True</td>\n",
       "      <td>False</td>\n",
       "      <td>NaN</td>\n",
       "    </tr>\n",
       "  </tbody>\n",
       "</table>\n",
       "</div>"
      ],
      "text/plain": [
       "                                                            name  \\\n",
       "sku                                                                \n",
       "AD543A1H1-Q11  TERREX AX2R - Chaussures de marche - core blac...   \n",
       "TO124G05S-K11        BOYS BASIC  - T-shirt basique - sky captain   \n",
       "\n",
       "                                                           sizes  \\\n",
       "sku                                                                \n",
       "AD543A1H1-Q11  [28, 28.5, 29, 30, 30.5, 31, 31.5, 32, 33, 33....   \n",
       "TO124G05S-K11           [4a, 5a, 6a, 7a, 8a, 10a, 12a, 14a, 16a]   \n",
       "\n",
       "                                                         url_key  \\\n",
       "sku                                                                \n",
       "AD543A1H1-Q11  adidas-performance-terrex-ax2r-chaussures-de-r...   \n",
       "TO124G05S-K11  tommy-hilfiger-boys-basic-t-shirt-basique-to12...   \n",
       "\n",
       "                                                           media  \\\n",
       "sku                                                                \n",
       "AD543A1H1-Q11  [{'path': 'spp-media-p1/6b794a1fa0d73bc1b922b5...   \n",
       "TO124G05S-K11  [{'path': 'spp-media-p1/f36ea887288232a98457a4...   \n",
       "\n",
       "                       brand_name  is_premium family_articles  \\\n",
       "sku                                                             \n",
       "AD543A1H1-Q11  adidas Performance       False              []   \n",
       "TO124G05S-K11      Tommy Hilfiger       False              []   \n",
       "\n",
       "                                                           flags  \\\n",
       "sku                                                                \n",
       "AD543A1H1-Q11  [{'key': 'discountRate', 'value': '-30%', 'tra...   \n",
       "TO124G05S-K11  [{'key': 'discountRate', 'value': '-15%', 'tra...   \n",
       "\n",
       "              product_group delivery_promises price.original  \\\n",
       "sku                                                            \n",
       "AD543A1H1-Q11          shoe                []        49,95 €   \n",
       "TO124G05S-K11      clothing                []        14,95 €   \n",
       "\n",
       "              price.promotional  price.has_different_prices  \\\n",
       "sku                                                           \n",
       "AD543A1H1-Q11           34,95 €                       False   \n",
       "TO124G05S-K11           12,70 €                        True   \n",
       "\n",
       "               price.has_different_original_prices  \\\n",
       "sku                                                  \n",
       "AD543A1H1-Q11                                False   \n",
       "TO124G05S-K11                                False   \n",
       "\n",
       "               price.has_different_promotional_prices  \\\n",
       "sku                                                     \n",
       "AD543A1H1-Q11                                   False   \n",
       "TO124G05S-K11                                    True   \n",
       "\n",
       "               price.has_discount_on_selected_sizes_only amount  \n",
       "sku                                                              \n",
       "AD543A1H1-Q11                                      False    NaN  \n",
       "TO124G05S-K11                                      False    NaN  "
      ]
     },
     "execution_count": 36,
     "metadata": {},
     "output_type": "execute_result"
    }
   ],
   "source": [
    "# Get the total number of pages\n",
    "total_pages=results['pagination']['page_count']\n",
    "\n",
    "# Your code\n",
    "df=pd.DataFrame()\n",
    "for i in range(1,20):\n",
    "    k=84*i\n",
    "    url=f'https://www.zalando.fr/api/catalog/articles?categories=promo-enfant&limit=84&offset={k}&sort=sale'\n",
    "    response = urllib.request.urlopen(url)\n",
    "    results = json.load(response)\n",
    "    flattened_data = json_normalize(results)\n",
    "    flattened_data1 = json_normalize(flattened_data.articles[0])\n",
    "    flattened_data1=flattened_data1.set_index('sku')\n",
    "    df = df.append(flattened_data1)\n",
    "    print(f\"getting page {i} of {total_pages}\", end='\\r')\n",
    "\n",
    "df.head(2)"
   ]
  },
  {
   "cell_type": "markdown",
   "metadata": {},
   "source": [
    "#### Display the trending brand in DataFrame"
   ]
  },
  {
   "cell_type": "code",
   "execution_count": 19,
   "metadata": {},
   "outputs": [
    {
     "data": {
      "text/plain": [
       "'Nike Sportswear'"
      ]
     },
     "execution_count": 19,
     "metadata": {},
     "output_type": "execute_result"
    }
   ],
   "source": [
    "df.brand_name.value_counts().index[0]"
   ]
  },
  {
   "cell_type": "markdown",
   "metadata": {},
   "source": [
    "#### Display the brand with maximal total discount (sum of discounts on all goods)"
   ]
  },
  {
   "cell_type": "code",
   "execution_count": 25,
   "metadata": {},
   "outputs": [
    {
     "data": {
      "text/html": [
       "<div>\n",
       "<style scoped>\n",
       "    .dataframe tbody tr th:only-of-type {\n",
       "        vertical-align: middle;\n",
       "    }\n",
       "\n",
       "    .dataframe tbody tr th {\n",
       "        vertical-align: top;\n",
       "    }\n",
       "\n",
       "    .dataframe thead th {\n",
       "        text-align: right;\n",
       "    }\n",
       "</style>\n",
       "<table border=\"1\" class=\"dataframe\">\n",
       "  <thead>\n",
       "    <tr style=\"text-align: right;\">\n",
       "      <th></th>\n",
       "      <th>name</th>\n",
       "      <th>sizes</th>\n",
       "      <th>url_key</th>\n",
       "      <th>media</th>\n",
       "      <th>brand_name</th>\n",
       "      <th>is_premium</th>\n",
       "      <th>family_articles</th>\n",
       "      <th>flags</th>\n",
       "      <th>product_group</th>\n",
       "      <th>delivery_promises</th>\n",
       "      <th>price.original</th>\n",
       "      <th>price.promotional</th>\n",
       "      <th>price.has_different_prices</th>\n",
       "      <th>price.has_different_original_prices</th>\n",
       "      <th>price.has_different_promotional_prices</th>\n",
       "      <th>price.has_discount_on_selected_sizes_only</th>\n",
       "      <th>amount</th>\n",
       "      <th>discount_amount</th>\n",
       "    </tr>\n",
       "    <tr>\n",
       "      <th>sku</th>\n",
       "      <th></th>\n",
       "      <th></th>\n",
       "      <th></th>\n",
       "      <th></th>\n",
       "      <th></th>\n",
       "      <th></th>\n",
       "      <th></th>\n",
       "      <th></th>\n",
       "      <th></th>\n",
       "      <th></th>\n",
       "      <th></th>\n",
       "      <th></th>\n",
       "      <th></th>\n",
       "      <th></th>\n",
       "      <th></th>\n",
       "      <th></th>\n",
       "      <th></th>\n",
       "      <th></th>\n",
       "    </tr>\n",
       "  </thead>\n",
       "  <tbody>\n",
       "    <tr>\n",
       "      <th>TO124K04Y-Q11</th>\n",
       "      <td>ESSENTIAL  - Sweatshirt - black</td>\n",
       "      <td>[3a, 4a, 5a, 6a, 7a, 8a, 10a, 12a, 14a, 16a, 1...</td>\n",
       "      <td>tommy-hilfiger-essential-sweatshirt-black-to12...</td>\n",
       "      <td>[{'path': 'spp-media-p1/0a07268b130d3d10a7347b...</td>\n",
       "      <td>Tommy Hilfiger</td>\n",
       "      <td>False</td>\n",
       "      <td>[]</td>\n",
       "      <td>[{'key': 'discountRate', 'value': '-15%', 'tra...</td>\n",
       "      <td>clothing</td>\n",
       "      <td>[]</td>\n",
       "      <td>NaN</td>\n",
       "      <td>NaN</td>\n",
       "      <td>True</td>\n",
       "      <td>False</td>\n",
       "      <td>True</td>\n",
       "      <td>False</td>\n",
       "      <td>NaN</td>\n",
       "      <td>NaN</td>\n",
       "    </tr>\n",
       "    <tr>\n",
       "      <th>AD543A1H1-Q11</th>\n",
       "      <td>TERREX AX2R - Chaussures de marche - core blac...</td>\n",
       "      <td>[28, 28.5, 29, 30, 30.5, 31, 31.5, 32, 33, 33....</td>\n",
       "      <td>adidas-performance-terrex-ax2r-chaussures-de-r...</td>\n",
       "      <td>[{'path': 'spp-media-p1/6b794a1fa0d73bc1b922b5...</td>\n",
       "      <td>adidas Performance</td>\n",
       "      <td>False</td>\n",
       "      <td>[]</td>\n",
       "      <td>[{'key': 'discountRate', 'value': '-30%', 'tra...</td>\n",
       "      <td>shoe</td>\n",
       "      <td>[]</td>\n",
       "      <td>NaN</td>\n",
       "      <td>NaN</td>\n",
       "      <td>False</td>\n",
       "      <td>False</td>\n",
       "      <td>False</td>\n",
       "      <td>False</td>\n",
       "      <td>NaN</td>\n",
       "      <td>NaN</td>\n",
       "    </tr>\n",
       "  </tbody>\n",
       "</table>\n",
       "</div>"
      ],
      "text/plain": [
       "                                                            name  \\\n",
       "sku                                                                \n",
       "TO124K04Y-Q11                    ESSENTIAL  - Sweatshirt - black   \n",
       "AD543A1H1-Q11  TERREX AX2R - Chaussures de marche - core blac...   \n",
       "\n",
       "                                                           sizes  \\\n",
       "sku                                                                \n",
       "TO124K04Y-Q11  [3a, 4a, 5a, 6a, 7a, 8a, 10a, 12a, 14a, 16a, 1...   \n",
       "AD543A1H1-Q11  [28, 28.5, 29, 30, 30.5, 31, 31.5, 32, 33, 33....   \n",
       "\n",
       "                                                         url_key  \\\n",
       "sku                                                                \n",
       "TO124K04Y-Q11  tommy-hilfiger-essential-sweatshirt-black-to12...   \n",
       "AD543A1H1-Q11  adidas-performance-terrex-ax2r-chaussures-de-r...   \n",
       "\n",
       "                                                           media  \\\n",
       "sku                                                                \n",
       "TO124K04Y-Q11  [{'path': 'spp-media-p1/0a07268b130d3d10a7347b...   \n",
       "AD543A1H1-Q11  [{'path': 'spp-media-p1/6b794a1fa0d73bc1b922b5...   \n",
       "\n",
       "                       brand_name  is_premium family_articles  \\\n",
       "sku                                                             \n",
       "TO124K04Y-Q11      Tommy Hilfiger       False              []   \n",
       "AD543A1H1-Q11  adidas Performance       False              []   \n",
       "\n",
       "                                                           flags  \\\n",
       "sku                                                                \n",
       "TO124K04Y-Q11  [{'key': 'discountRate', 'value': '-15%', 'tra...   \n",
       "AD543A1H1-Q11  [{'key': 'discountRate', 'value': '-30%', 'tra...   \n",
       "\n",
       "              product_group delivery_promises price.original  \\\n",
       "sku                                                            \n",
       "TO124K04Y-Q11      clothing                []            NaN   \n",
       "AD543A1H1-Q11          shoe                []            NaN   \n",
       "\n",
       "              price.promotional  price.has_different_prices  \\\n",
       "sku                                                           \n",
       "TO124K04Y-Q11               NaN                        True   \n",
       "AD543A1H1-Q11               NaN                       False   \n",
       "\n",
       "               price.has_different_original_prices  \\\n",
       "sku                                                  \n",
       "TO124K04Y-Q11                                False   \n",
       "AD543A1H1-Q11                                False   \n",
       "\n",
       "               price.has_different_promotional_prices  \\\n",
       "sku                                                     \n",
       "TO124K04Y-Q11                                    True   \n",
       "AD543A1H1-Q11                                   False   \n",
       "\n",
       "               price.has_discount_on_selected_sizes_only amount  \\\n",
       "sku                                                               \n",
       "TO124K04Y-Q11                                      False    NaN   \n",
       "AD543A1H1-Q11                                      False    NaN   \n",
       "\n",
       "               discount_amount  \n",
       "sku                             \n",
       "TO124K04Y-Q11              NaN  \n",
       "AD543A1H1-Q11              NaN  "
      ]
     },
     "execution_count": 25,
     "metadata": {},
     "output_type": "execute_result"
    }
   ],
   "source": [
    "#Our data is still text. Convert prices into numbers:\n",
    "df['price.original']=df['price.original'].str.extract('(\\d*,\\d*)')\n",
    "df['price.promotional']=df['price.promotional'].str.extract('(\\d*,\\d*)')\n",
    "\n",
    "# df['price.original'] = [x.replace(',', '.') for x in df['price.original']]\n",
    "# df['price.promotional'] = [x.replace(',', '.') for x in df['price.promotional']]\n",
    "df.head(2)"
   ]
  },
  {
   "cell_type": "code",
   "execution_count": 33,
   "metadata": {},
   "outputs": [],
   "source": [
    "df['discount_amount']=df['price.original'].astype(float)-df['price.promotional'].astype(float)\n",
    "df1=df.copy()"
   ]
  },
  {
   "cell_type": "code",
   "execution_count": 34,
   "metadata": {},
   "outputs": [
    {
     "data": {
      "text/plain": [
       "brand_name\n",
       "ASICS                  0.0\n",
       "Abercrombie & Fitch    0.0\n",
       "Aigle                  0.0\n",
       "BOSS Kidswear          0.0\n",
       "Bardot Junior          0.0\n",
       "                      ... \n",
       "happy girls            0.0\n",
       "le coq sportif         0.0\n",
       "myMo KIDS              0.0\n",
       "pure pure by BAUER     0.0\n",
       "s.Oliver               0.0\n",
       "Name: discount_amount, Length: 163, dtype: float64"
      ]
     },
     "execution_count": 34,
     "metadata": {},
     "output_type": "execute_result"
    }
   ],
   "source": [
    "total_disc=df1.groupby(['brand_name']).sum().discount_amount\n",
    "total_disc\n"
   ]
  },
  {
   "cell_type": "code",
   "execution_count": 35,
   "metadata": {},
   "outputs": [
    {
     "data": {
      "text/plain": [
       "'s.Oliver'"
      ]
     },
     "execution_count": 35,
     "metadata": {},
     "output_type": "execute_result"
    }
   ],
   "source": [
    "total_disc.sort_values(ascending=False).index[0]"
   ]
  },
  {
   "cell_type": "markdown",
   "metadata": {},
   "source": [
    "#### Display the brands without discount at all"
   ]
  },
  {
   "cell_type": "code",
   "execution_count": 29,
   "metadata": {},
   "outputs": [
    {
     "data": {
      "text/plain": [
       "brand_name\n",
       "ASICS                  0.0\n",
       "Abercrombie & Fitch    0.0\n",
       "Aigle                  0.0\n",
       "BOSS Kidswear          0.0\n",
       "Bardot Junior          0.0\n",
       "                      ... \n",
       "happy girls            0.0\n",
       "le coq sportif         0.0\n",
       "myMo KIDS              0.0\n",
       "pure pure by BAUER     0.0\n",
       "s.Oliver               0.0\n",
       "Name: discount_amount, Length: 163, dtype: float64"
      ]
     },
     "execution_count": 29,
     "metadata": {},
     "output_type": "execute_result"
    }
   ],
   "source": [
    "total_disc[total_disc==0]"
   ]
  },
  {
   "cell_type": "code",
   "execution_count": 30,
   "metadata": {},
   "outputs": [
    {
     "data": {
      "text/plain": [
       "brand_name\n",
       "ASICS                  0.0\n",
       "Abercrombie & Fitch    0.0\n",
       "Aigle                  0.0\n",
       "BOSS Kidswear          0.0\n",
       "Bardot Junior          0.0\n",
       "                      ... \n",
       "happy girls            0.0\n",
       "le coq sportif         0.0\n",
       "myMo KIDS              0.0\n",
       "pure pure by BAUER     0.0\n",
       "s.Oliver               0.0\n",
       "Name: discount_amount, Length: 163, dtype: float64"
      ]
     },
     "execution_count": 30,
     "metadata": {},
     "output_type": "execute_result"
    }
   ],
   "source": [
    "total_disc"
   ]
  },
  {
   "cell_type": "code",
   "execution_count": null,
   "metadata": {},
   "outputs": [],
   "source": []
  }
 ],
 "metadata": {
  "kernelspec": {
   "display_name": "Python 3",
   "language": "python",
   "name": "python3"
  },
  "language_info": {
   "codemirror_mode": {
    "name": "ipython",
    "version": 3
   },
   "file_extension": ".py",
   "mimetype": "text/x-python",
   "name": "python",
   "nbconvert_exporter": "python",
   "pygments_lexer": "ipython3",
   "version": "3.7.7"
  }
 },
 "nbformat": 4,
 "nbformat_minor": 2
}
